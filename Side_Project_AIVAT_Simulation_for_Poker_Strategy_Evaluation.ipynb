{
  "nbformat": 4,
  "nbformat_minor": 0,
  "metadata": {
    "colab": {
      "provenance": []
    },
    "kernelspec": {
      "name": "python3",
      "display_name": "Python 3"
    },
    "language_info": {
      "name": "python"
    }
  },
  "cells": [
    {
      "cell_type": "markdown",
      "source": [
        "**Author**: Leon  \n",
        "**Date**: 2025-03-24\n",
        "\n",
        "## 📌 Project Description\n",
        "This notebook implements a simplified heads-up All-in or Fold (AOF) poker game simulation framework for evaluating and comparing poker strategies.  \n",
        "The focus is on demonstrating how AIVAT (Action-Informed Value Assessment Tool) reduces variance in win-rate estimation, especially in small-sample scenarios.\n",
        "\n",
        "### 🧪 The experiment includes:\n",
        "\n",
        "- Building strategies and simulation engine   \n",
        "- Long-term EV comparison between Strategy A and Strategy B   \n",
        "- Measuring misjudgment rates under Raw EV vs AIVAT correction   \n",
        "- Visualizing variance reduction effect   \n",
        "\n",
        "\n",
        "### 🎯 Goal\n",
        "\n",
        "The final goal is to illustrate that AIVAT can lead to more reliable strategy evaluation in noisy, high-variance environments.  \n",
        "\n"
      ],
      "metadata": {
        "id": "NEdItgPgYdfe"
      }
    },
    {
      "cell_type": "code",
      "execution_count": 1,
      "metadata": {
        "id": "On_fhMJwLGck"
      },
      "outputs": [],
      "source": [
        "import numpy as np\n",
        "import random\n",
        "import matplotlib.pyplot as plt\n",
        "import seaborn as sns\n",
        "import pandas as pd\n",
        "from collections import defaultdict\n",
        "\n",
        "# Define hand strength (1 to 10, 10 is strongest)\n",
        "hand_strengths = list(range(1, 11))\n",
        "\n",
        "# Strategy A: Only goes all-in with hand >= 7\n",
        "def strategy_a(hand_strength):\n",
        "    return hand_strength >= 7\n",
        "\n",
        "# Strategy B: Goes all-in with hand >= 5\n",
        "def strategy_b(hand_strength):\n",
        "    return hand_strength >= 5\n",
        "\n",
        "# Set random seeds for reproducibility\n",
        "np.random.seed(42)\n",
        "random.seed(42)"
      ]
    },
    {
      "cell_type": "code",
      "source": [
        "# Simulate One Hand Logic\n",
        "def simulate_one_hand():\n",
        "    cards = random.sample(hand_strengths, 2)\n",
        "    a_card, b_card = cards[0], cards[1]\n",
        "    a_action = strategy_a(a_card)\n",
        "    b_action = strategy_b(b_card)\n",
        "\n",
        "    if a_action and b_action:\n",
        "        if a_card > b_card:\n",
        "            return 2, -2\n",
        "        elif a_card < b_card:\n",
        "            return -2, 2\n",
        "        else:\n",
        "            return 0, 0\n",
        "    elif a_action and not b_action:\n",
        "        return 1, -1\n",
        "    elif not a_action and b_action:\n",
        "        return -1, 1\n",
        "    else:\n",
        "        return 0, 0"
      ],
      "metadata": {
        "id": "QM3i9u0UMGau"
      },
      "execution_count": 2,
      "outputs": []
    },
    {
      "cell_type": "code",
      "source": [
        "# Simulate Large-Scale Raw EV Comparison\n",
        "def simulate_long_term_ev(n=100000):\n",
        "    a_total, b_total = 0, 0\n",
        "    for _ in range(n):\n",
        "        a_result, b_result = simulate_one_hand()\n",
        "        a_total += a_result\n",
        "        b_total += b_result\n",
        "\n",
        "    return {\n",
        "        \"Total Hands\": n,\n",
        "        \"A Total Profit\": a_total,\n",
        "        \"B Total Profit\": b_total,\n",
        "        \"A Avg Profit/Hand\": round(a_total / n, 4),\n",
        "        \"B Avg Profit/Hand\": round(b_total / n, 4)\n",
        "    }\n",
        "\n",
        "print(\"\\nLong-Term Simulation Result\")\n",
        "print(simulate_long_term_ev())"
      ],
      "metadata": {
        "colab": {
          "base_uri": "https://localhost:8080/"
        },
        "id": "mMPf2-DUMQk-",
        "outputId": "0639a710-2b92-4457-e43a-5d3b983e8acb"
      },
      "execution_count": 3,
      "outputs": [
        {
          "output_type": "stream",
          "name": "stdout",
          "text": [
            "\n",
            "Long-Term Simulation Result\n",
            "{'Total Hands': 100000, 'A Total Profit': -2345, 'B Total Profit': 2345, 'A Avg Profit/Hand': -0.0234, 'B Avg Profit/Hand': 0.0234}\n"
          ]
        }
      ]
    },
    {
      "cell_type": "code",
      "source": [
        "# Small Sample Misjudgment Rate with Raw EV\n",
        "def simulate_raw_ev_misjudge_rate(n_hands_per_batch=100, num_batches=100):\n",
        "    misjudge_count = 0\n",
        "    batch_ev_list = []\n",
        "\n",
        "    for _ in range(num_batches):\n",
        "        a_total, b_total = 0, 0\n",
        "        for _ in range(n_hands_per_batch):\n",
        "            a_result, b_result = simulate_one_hand()\n",
        "            a_total += a_result\n",
        "            b_total += b_result\n",
        "        if a_total > b_total:\n",
        "            misjudge_count += 1\n",
        "\n",
        "        batch_ev_list.append(a_total / n_hands_per_batch)\n",
        "\n",
        "    misjudge_rate = round(misjudge_count / num_batches * 100, 2)\n",
        "    variance = round(np.var(batch_ev_list), 6)\n",
        "\n",
        "    return {\n",
        "        \"Batch Size\": n_hands_per_batch,\n",
        "        \"Batches\": num_batches,\n",
        "        \"Misjudgments (A > B)\": misjudge_count,\n",
        "        \"Misjudgment Rate\": f\"{misjudge_rate}%\"\n",
        "    }, batch_ev_list\n",
        "\n",
        "print(\"\\nRaw EV Misjudgment Result\")\n",
        "raw_ev_result = simulate_raw_ev_misjudge_rate()\n",
        "print(raw_ev_result[0])"
      ],
      "metadata": {
        "colab": {
          "base_uri": "https://localhost:8080/"
        },
        "id": "g8n3YuCvMfMG",
        "outputId": "8bea71da-c686-4449-f583-70ac9a38843c"
      },
      "execution_count": 4,
      "outputs": [
        {
          "output_type": "stream",
          "name": "stdout",
          "text": [
            "\n",
            "Raw EV Misjudgment Result\n",
            "{'Batch Size': 100, 'Batches': 100, 'Misjudgments (A > B)': 43, 'Misjudgment Rate': '43.0%'}\n"
          ]
        }
      ]
    },
    {
      "cell_type": "code",
      "source": [
        "# Build Baseline Table for AIVAT\n",
        "def compute_baseline_ev(strategy_opponent):\n",
        "    baseline = {}\n",
        "    for my_card in hand_strengths:\n",
        "        evs = []\n",
        "        for opp_card in hand_strengths:\n",
        "            if opp_card == my_card:\n",
        "                continue\n",
        "            a_action = strategy_a(my_card)\n",
        "            b_action = strategy_opponent(opp_card)\n",
        "            if a_action and b_action:\n",
        "                if my_card > opp_card:\n",
        "                    result = 2\n",
        "                elif my_card < opp_card:\n",
        "                    result = -2\n",
        "                else:\n",
        "                    result = 0\n",
        "            elif a_action and not b_action:\n",
        "                result = 1\n",
        "            elif not a_action and b_action:\n",
        "                result = -1\n",
        "            else:\n",
        "                result = 0\n",
        "            evs.append(result)\n",
        "        baseline[my_card] = np.mean(evs)\n",
        "\n",
        "    return baseline\n",
        "\n",
        "baseline_table = compute_baseline_ev(strategy_b)\n",
        "baseline_table"
      ],
      "metadata": {
        "colab": {
          "base_uri": "https://localhost:8080/"
        },
        "id": "t7WNsJHNZt5X",
        "outputId": "07a6e662-ae96-4733-adde-63be0f06bca4"
      },
      "execution_count": 5,
      "outputs": [
        {
          "output_type": "execute_result",
          "data": {
            "text/plain": [
              "{1: np.float64(-0.6666666666666666),\n",
              " 2: np.float64(-0.6666666666666666),\n",
              " 3: np.float64(-0.6666666666666666),\n",
              " 4: np.float64(-0.6666666666666666),\n",
              " 5: np.float64(-0.5555555555555556),\n",
              " 6: np.float64(-0.5555555555555556),\n",
              " 7: np.float64(0.2222222222222222),\n",
              " 8: np.float64(0.6666666666666666),\n",
              " 9: np.float64(1.1111111111111112),\n",
              " 10: np.float64(1.5555555555555556)}"
            ]
          },
          "metadata": {},
          "execution_count": 5
        }
      ]
    },
    {
      "cell_type": "code",
      "source": [
        "# Simulate AIVAT EV Misjudgment Rate\n",
        "def simulate_aivat_misjudge_rate(baseline, n_hands_per_batch=100, num_batches=100):\n",
        "    misjudge_count = 0\n",
        "    batch_ev_list = []\n",
        "\n",
        "    for _ in range(num_batches):\n",
        "        a_ev, b_ev = 0, 0\n",
        "        for _ in range(n_hands_per_batch):\n",
        "            cards = random.sample(hand_strengths, 2)\n",
        "            a_card, b_card = cards[0], cards[1]\n",
        "            a_action = strategy_a(a_card)\n",
        "            b_action = strategy_b(b_card)\n",
        "            if a_action and b_action:\n",
        "                if a_card > b_card:\n",
        "                    a_result = 2\n",
        "                    b_result = -2\n",
        "                elif a_card < b_card:\n",
        "                    a_result = -2\n",
        "                    b_result = 2\n",
        "                else:\n",
        "                    a_result = b_result = 0\n",
        "            elif a_action and not b_action:\n",
        "                a_result = 1\n",
        "                b_result = -1\n",
        "            elif not a_action and b_action:\n",
        "                a_result = -1\n",
        "                b_result = 1\n",
        "            else:\n",
        "                a_result = b_result = 0\n",
        "            a_ev += a_result - baseline[a_card]\n",
        "            b_ev += b_result - baseline[b_card]\n",
        "\n",
        "        if a_ev > b_ev:\n",
        "            misjudge_count += 1\n",
        "\n",
        "        batch_ev_list.append(a_ev / n_hands_per_batch)\n",
        "\n",
        "    misjudge_rate = round(misjudge_count / num_batches * 100, 2)\n",
        "    variance = round(np.var(batch_ev_list), 6)\n",
        "\n",
        "    return {\n",
        "        \"Batch Size\": n_hands_per_batch,\n",
        "        \"Batches\": num_batches,\n",
        "        \"Misjudgments (A > B)\": misjudge_count,\n",
        "        \"Misjudgment Rate\": f\"{misjudge_rate}%\"\n",
        "    }, batch_ev_list\n",
        "\n",
        "print(\"\\nAIVAT Misjudgment Result\")\n",
        "aivat_result = simulate_aivat_misjudge_rate(baseline_table)\n",
        "print(aivat_result[0])"
      ],
      "metadata": {
        "colab": {
          "base_uri": "https://localhost:8080/"
        },
        "id": "xTEd2LfNZuXa",
        "outputId": "992c19f7-a954-443a-95aa-592193dbe4db"
      },
      "execution_count": 6,
      "outputs": [
        {
          "output_type": "stream",
          "name": "stdout",
          "text": [
            "\n",
            "AIVAT Misjudgment Result\n",
            "{'Batch Size': 100, 'Batches': 100, 'Misjudgments (A > B)': 48, 'Misjudgment Rate': '48.0%'}\n"
          ]
        }
      ]
    },
    {
      "cell_type": "code",
      "source": [
        "from scipy.stats import f\n",
        "\n",
        "# F-test: H0 = equal variance\n",
        "var_raw = np.var(raw_ev_result[1], ddof=1)\n",
        "var_aivat = np.var(aivat_result[1], ddof=1)\n",
        "\n",
        "# F-ratio (larger / smaller)\n",
        "if var_raw > var_aivat:\n",
        "    f_stat = var_raw / var_aivat\n",
        "    dfn, dfd = len(raw_ev_result[1]) - 1, len(aivat_result[1]) - 1\n",
        "else:\n",
        "    f_stat = var_aivat / var_raw\n",
        "    dfn, dfd = len(aivat_result[1]) - 1, len(raw_ev_result[1]) - 1\n",
        "\n",
        "# p-value from F-distribution (two-tailed)\n",
        "p_value = 2 * min(f.cdf(f_stat, dfn, dfd), 1 - f.cdf(f_stat, dfn, dfd))\n",
        "\n",
        "{\n",
        "    \"Raw Variance\": round(var_raw, 6),\n",
        "    \"AIVAT Variance\": round(var_aivat, 6),\n",
        "    \"F-statistic\": round(f_stat, 4),\n",
        "    \"p-value\": round(p_value, 6)\n",
        "}\n"
      ],
      "metadata": {
        "colab": {
          "base_uri": "https://localhost:8080/"
        },
        "id": "rgGdW4dA3K0S",
        "outputId": "2367382e-4c8c-4547-fb2d-e46efed93baa"
      },
      "execution_count": 7,
      "outputs": [
        {
          "output_type": "execute_result",
          "data": {
            "text/plain": [
              "{'Raw Variance': np.float64(0.018106),\n",
              " 'AIVAT Variance': np.float64(0.007569),\n",
              " 'F-statistic': np.float64(2.392),\n",
              " 'p-value': np.float64(2e-05)}"
            ]
          },
          "metadata": {},
          "execution_count": 7
        }
      ]
    },
    {
      "cell_type": "code",
      "source": [
        "# Misjudgment Rate vs Sample Size (Curve)\n",
        "sample_sizes = [50, 100, 500, 1000, 5000]\n",
        "num_batches = 100\n",
        "raw_results = []\n",
        "aivat_results = []\n",
        "\n",
        "for size in sample_sizes:\n",
        "    raw_result = simulate_raw_ev_misjudge_rate(n_hands_per_batch=size, num_batches=num_batches)[0]\n",
        "    raw_result[\"Model\"] = \"Raw EV\"\n",
        "    raw_results.append(raw_result)\n",
        "\n",
        "    aivat_result = simulate_aivat_misjudge_rate(baseline_table, n_hands_per_batch=size, num_batches=num_batches)[0]\n",
        "    aivat_result[\"Model\"] = \"AIVAT\"\n",
        "    aivat_results.append(aivat_result)\n",
        "\n",
        "df_all = pd.DataFrame(raw_results + aivat_results)\n",
        "df_plot = df_all[[\"Batch Size\", \"Model\", \"Misjudgment Rate\"]].copy()\n",
        "df_plot[\"Misjudgment Rate\"] = df_plot[\"Misjudgment Rate\"].str.replace(\"%\", \"\").astype(float)\n",
        "\n",
        "plt.figure(figsize=(10, 6))\n",
        "sns.lineplot(data=df_plot, x=\"Batch Size\", y=\"Misjudgment Rate\", hue=\"Model\", marker=\"o\")\n",
        "plt.title(\"Misjudgment Rate vs Batch Size (Raw EV vs AIVAT)\")\n",
        "plt.xlabel(\"Hands per Batch\")\n",
        "plt.ylabel(\"Misjudgment Rate (%)\")\n",
        "plt.grid(True)\n",
        "plt.xticks(sample_sizes)\n",
        "plt.tight_layout()\n",
        "plt.show()"
      ],
      "metadata": {
        "colab": {
          "base_uri": "https://localhost:8080/",
          "height": 607
        },
        "id": "nzXJUrryZ5rx",
        "outputId": "4d88f08f-e7a6-4a07-9f2c-c73c6a80783a"
      },
      "execution_count": 8,
      "outputs": [
        {
          "output_type": "display_data",
          "data": {
            "text/plain": [
              "<Figure size 1000x600 with 1 Axes>"
            ],
            "image/png": "[encoded data removed]"
          },
          "metadata": {}
        }
      ]
    },
    {
      "cell_type": "markdown",
      "source": [
        "## ✅ Conclusion Summary\n",
        "\n",
        "1. **Strategy B consistently outperforms Strategy A in long-run simulations.**  \n",
        "\n",
        "2. **In small sample scenarios, Raw EV can occasionally have a lower misjudgment rate than AIVAT.**  \n",
        "\n",
        "3. **While AIVAT may show higher misjudgment in very small samples, it quickly stabilizes and outperforms Raw EV as the sample size increases.**\n",
        "\n",
        "4. **AIVAT effectively reduces variance and provides more consistent win-rate estimates.**  \n",
        "\n",
        "5. **AIVAT achieves significant variance reduction in per-batch average EV.**  \n",
        "   Based on 100 batches of 100 hands, the variance of Raw EV was `0.018106`, while AIVAT reduced it to `0.007569`.  \n",
        "   An F-test confirmed that this difference is statistically significant (**p ≪ 0.05**, F = `2.392`), suggesting that the variance reduction is not due to random fluctuation.\n",
        "\n",
        "---\n",
        "\n",
        "These findings demonstrate that **AIVAT** is a reliable approach for improving estimation stability and reducing variance in small-sample poker strategy evaluation.\n"
      ],
      "metadata": {
        "id": "zcbhuCeua0Hr"
      }
    }
  ]
}